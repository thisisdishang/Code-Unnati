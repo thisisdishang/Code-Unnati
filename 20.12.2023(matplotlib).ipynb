{
 "cells": [
  {
   "cell_type": "markdown",
   "metadata": {},
   "source": [
    "### Matplotlib\n",
    "- Matplotlib is a free and open-source drawing library that can work with a variety of drawing formats.\n",
    "- You can generates plots, histograms, bar charts and other types of charts with just a few lines of code.\n",
    "- Matplotlib is an excellent python visualisation library for two-dimensional array/plots."
   ]
  },
  {
   "cell_type": "markdown",
   "metadata": {},
   "source": [
    "Data Visualization\n",
    "- The graphical representation of information and data is known as data visualization.\n",
    "- Data visualisation tools, which use visual elements such as charts, graphs and maps, make it easy to see and understand trends."
   ]
  },
  {
   "cell_type": "markdown",
   "metadata": {},
   "source": []
  }
 ],
 "metadata": {
  "kernelspec": {
   "display_name": "Python 3",
   "language": "python",
   "name": "python3"
  },
  "language_info": {
   "codemirror_mode": {
    "name": "ipython",
    "version": 3
   },
   "file_extension": ".py",
   "mimetype": "text/x-python",
   "name": "python",
   "nbconvert_exporter": "python",
   "pygments_lexer": "ipython3",
   "version": "3.10.8"
  }
 },
 "nbformat": 4,
 "nbformat_minor": 2
}
