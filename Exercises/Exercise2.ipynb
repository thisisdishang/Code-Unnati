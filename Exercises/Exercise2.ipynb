{
 "cells": [
  {
   "cell_type": "markdown",
   "metadata": {},
   "source": [
    "Q1: You are at the grocery store and have a list of items and their prices.\n",
    "- Write a python function to calculate the total bill amount for shopping cart containing these items.\n",
    "- The function should take two lists as input: one containing the item names and another containing their corresponding prices.\n",
    "- Make sure to handle scenarios where the item prices are not given or the lists are of different lengths."
   ]
  },
  {
   "cell_type": "code",
   "execution_count": 16,
   "metadata": {},
   "outputs": [
    {
     "name": "stdout",
     "output_type": "stream",
     "text": [
      "Total Amount of items is  27.0\n"
     ]
    }
   ],
   "source": [
    "def calculatebill(items,prices):\n",
    "    if len(items)!=len(prices):\n",
    "        return \"\\nError: Please enter equal items and prices!\"\n",
    "    \n",
    "    total=0\n",
    "    for p in prices:\n",
    "        total+=p\n",
    "\n",
    "    return total\n",
    "\n",
    "#take a example:\n",
    "items=[\"Pen\",\"Pencil\",\"Rubber\",\"Sharpener\"]\n",
    "prices=[10,5,6.5,5.5]\n",
    "billamount=calculatebill(items,prices)\n",
    "print(\"Total Amount of items is \",billamount)"
   ]
  },
  {
   "cell_type": "markdown",
   "metadata": {},
   "source": [
    "Q2: Some items in the grocery store have discounts.\n",
    "- Write a python function that calculates the discounted bill amount by reducing the price of items with a discount of 10%.\n",
    "- The function should take the original price list and a list of items eligible for the discount and the return the discounted total bill amount."
   ]
  },
  {
   "cell_type": "code",
   "execution_count": 26,
   "metadata": {},
   "outputs": [
    {
     "name": "stdout",
     "output_type": "stream",
     "text": [
      "Bill After Discount:  128.6\n"
     ]
    }
   ],
   "source": [
    "def calculatediscount(items_prices,items_discount):\n",
    "    discountedbill=0\n",
    "\n",
    "    for i in range(len(items_prices)):\n",
    "        if items_discount[i]:\n",
    "            discountedbill+=items_prices[i]*0.9\n",
    "        else:\n",
    "            discountedbill+=items_prices[i]\n",
    "            \n",
    "    return discountedbill\n",
    "\n",
    "#take a example:\n",
    "itemsprices=[90,34,10,7]\n",
    "itemsdiscounts=[True,True,False,False]\n",
    "discountamount=calculatediscount(itemsprices,itemsdiscounts)\n",
    "print(\"Bill After Discount: \",discountamount)"
   ]
  },
  {
   "cell_type": "markdown",
   "metadata": {},
   "source": [
    "Q3: Write a python function that takes a list of numbers as input and returns the count of even numbers in the list."
   ]
  },
  {
   "cell_type": "code",
   "execution_count": 38,
   "metadata": {},
   "outputs": [
    {
     "name": "stdout",
     "output_type": "stream",
     "text": [
      "Total even number in list:  5\n",
      "Even Number List:-\n",
      "[2, 4, 6, 8, 10]\n"
     ]
    }
   ],
   "source": [
    "def evennum(numlist):\n",
    "    counter=0\n",
    "    evenlist=[]\n",
    "    for i in numlist:\n",
    "        if i%2==0:\n",
    "            counter+=1\n",
    "            evenlist.append(i)\n",
    "\n",
    "    print(\"Total even number in list: \",counter)\n",
    "    return evenlist\n",
    "        \n",
    "numberlist=[1,2,3,4,5,6,7,8,9,10]\n",
    "list1=evennum(numberlist)\n",
    "print(\"Even Number List:-\")\n",
    "print(list1)      \n"
   ]
  }
 ],
 "metadata": {
  "kernelspec": {
   "display_name": "Python 3",
   "language": "python",
   "name": "python3"
  },
  "language_info": {
   "codemirror_mode": {
    "name": "ipython",
    "version": 3
   },
   "file_extension": ".py",
   "mimetype": "text/x-python",
   "name": "python",
   "nbconvert_exporter": "python",
   "pygments_lexer": "ipython3",
   "version": "3.10.8"
  }
 },
 "nbformat": 4,
 "nbformat_minor": 2
}
