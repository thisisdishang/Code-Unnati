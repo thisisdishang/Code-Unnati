{
 "cells": [
  {
   "cell_type": "markdown",
   "metadata": {},
   "source": [
    "### NumPy\n",
    "- Numpy stands for Numerical Python.\n",
    "- It is an open-source python library used for working with arrays.\n",
    "- It also includes functions for working with linear algebra, the fourier transform and matrices.\n",
    "- It is a completely open-source and free project."
   ]
  },
  {
   "cell_type": "markdown",
   "metadata": {},
   "source": [
    "Creating NumPy Arrays"
   ]
  },
  {
   "cell_type": "code",
   "execution_count": 9,
   "metadata": {},
   "outputs": [
    {
     "name": "stdout",
     "output_type": "stream",
     "text": [
      "[1 2 3 4 5]\n",
      "int32\n"
     ]
    }
   ],
   "source": [
    "import numpy as np\n",
    "arr=np.array((1,2,3,4,5))\n",
    "print(arr)\n",
    "print(arr.dtype)"
   ]
  },
  {
   "cell_type": "markdown",
   "metadata": {},
   "source": [
    "0-D Arrays"
   ]
  },
  {
   "cell_type": "code",
   "execution_count": 10,
   "metadata": {},
   "outputs": [
    {
     "name": "stdout",
     "output_type": "stream",
     "text": [
      "42\n"
     ]
    }
   ],
   "source": [
    "import numpy as np\n",
    "arr=np.array(42)\n",
    "print(arr)"
   ]
  },
  {
   "cell_type": "markdown",
   "metadata": {},
   "source": [
    "1-D Arrays"
   ]
  },
  {
   "cell_type": "code",
   "execution_count": 12,
   "metadata": {},
   "outputs": [
    {
     "name": "stdout",
     "output_type": "stream",
     "text": [
      "[10 20 30 40]\n"
     ]
    }
   ],
   "source": [
    "import numpy as np\n",
    "arr=np.array([10,20,30,40])\n",
    "print(arr)"
   ]
  },
  {
   "cell_type": "markdown",
   "metadata": {},
   "source": [
    "2-D Arrays"
   ]
  },
  {
   "cell_type": "code",
   "execution_count": 14,
   "metadata": {},
   "outputs": [
    {
     "name": "stdout",
     "output_type": "stream",
     "text": [
      "[[ 7  8  9]\n",
      " [10 11 12]]\n"
     ]
    }
   ],
   "source": [
    "import numpy as np\n",
    "arr=np.array([[7,8,9],[10,11,12]])\n",
    "print(arr)"
   ]
  },
  {
   "cell_type": "markdown",
   "metadata": {},
   "source": [
    "3-D Arrays"
   ]
  },
  {
   "cell_type": "code",
   "execution_count": 16,
   "metadata": {},
   "outputs": [
    {
     "name": "stdout",
     "output_type": "stream",
     "text": [
      "[[[ 1  2  3  4]\n",
      "  [ 5  6  7  8]]\n",
      "\n",
      " [[11 12 13 14]\n",
      "  [15 16 17 18]]]\n"
     ]
    }
   ],
   "source": [
    "import numpy as np\n",
    "arr=np.array([[[1,2,3,4],[5,6,7,8]],[[11,12,13,14],[15,16,17,18]]])\n",
    "print(arr)"
   ]
  },
  {
   "cell_type": "markdown",
   "metadata": {},
   "source": [
    "Check Number of Dimensions"
   ]
  },
  {
   "cell_type": "code",
   "execution_count": 21,
   "metadata": {},
   "outputs": [
    {
     "name": "stdout",
     "output_type": "stream",
     "text": [
      "0\n",
      "1\n",
      "2\n",
      "3\n"
     ]
    }
   ],
   "source": [
    "import numpy as np\n",
    "a=np.array(34)\n",
    "b=np.array([1,2,3,4])\n",
    "c=np.array([[1,2,3,4],[5,6,7,8]])\n",
    "d=np.array([[[10,20,30],[40,50,60]],[[70,80,90],[100,110,120]]])\n",
    "\n",
    "print(a.ndim)\n",
    "print(b.ndim)\n",
    "print(c.ndim)\n",
    "print(d.ndim)"
   ]
  },
  {
   "cell_type": "markdown",
   "metadata": {},
   "source": [
    "I/O with NumPy"
   ]
  },
  {
   "cell_type": "code",
   "execution_count": 27,
   "metadata": {},
   "outputs": [],
   "source": [
    "# numpy.save() file stores the input array in a disk file with npy extension\n",
    "import numpy as np\n",
    "a=np.array([85,86,87,84])\n",
    "np.save('numpyfile',a)"
   ]
  },
  {
   "cell_type": "code",
   "execution_count": 30,
   "metadata": {},
   "outputs": [
    {
     "name": "stdout",
     "output_type": "stream",
     "text": [
      "[85 86 87 84]\n"
     ]
    }
   ],
   "source": [
    "# To reconstruct array from numpyfile.npy us load() function\n",
    "import numpy as np\n",
    "b=np.load('numpyfile.npy')\n",
    "print(b)"
   ]
  },
  {
   "cell_type": "code",
   "execution_count": 35,
   "metadata": {},
   "outputs": [
    {
     "name": "stdout",
     "output_type": "stream",
     "text": [
      "[1. 2. 3. 4. 5.]\n"
     ]
    }
   ],
   "source": [
    "# The storage and retrieval of array data in simple text file format is done with savetxt() and loadtxt() functions.\n",
    "import numpy as np\n",
    "a=np.array([1,2,3,4,5])\n",
    "np.savetxt('numpytxtfile.txt',a)\n",
    "n=np.loadtxt('numpytxtfile.txt')\n",
    "print(n)"
   ]
  },
  {
   "cell_type": "markdown",
   "metadata": {},
   "source": [
    "Indexing\n",
    "- Individual elements are accessed through indexing.\n",
    "- The indexing begins at zero.\n",
    "- With numpy indexing, you can also extract entires rows, columns or planes from multidimensional arrays."
   ]
  },
  {
   "cell_type": "markdown",
   "metadata": {},
   "source": [
    "Indexing Using Index Arrays"
   ]
  },
  {
   "cell_type": "code",
   "execution_count": 45,
   "metadata": {},
   "outputs": [
    {
     "name": "stdout",
     "output_type": "stream",
     "text": [
      "Elements of array:  [1 3 5 7 9]\n",
      "Indexed Elements of array arr:  [9 1 5 3 5]\n"
     ]
    }
   ],
   "source": [
    "import numpy as np\n",
    "arr=np.arange(1,10,2)\n",
    "print(\"Elements of array: \",arr)\n",
    "arr2=arr[np.array([4,0,2,1,2])]\n",
    "print(\"Indexed Elements of array arr: \",arr2)"
   ]
  },
  {
   "cell_type": "markdown",
   "metadata": {},
   "source": [
    "Indexing in 1 Dimension"
   ]
  },
  {
   "cell_type": "code",
   "execution_count": 40,
   "metadata": {},
   "outputs": [
    {
     "name": "stdout",
     "output_type": "stream",
     "text": [
      "Array arr:  [0 1 2 3 4]\n",
      "Element at index 0 of arr is:  0\n",
      "Element at index 1 of arr is:  1\n"
     ]
    }
   ],
   "source": [
    "import numpy as np\n",
    "arr=np.arange(5)\n",
    "print(\"Array arr: \",arr)\n",
    "print(\"Element at index 0 of arr is: \",arr[0])\n",
    "print(\"Element at index 1 of arr is: \",arr[1])"
   ]
  },
  {
   "cell_type": "markdown",
   "metadata": {},
   "source": [
    "Indexing in 2 Dimensions"
   ]
  },
  {
   "cell_type": "code",
   "execution_count": 49,
   "metadata": {},
   "outputs": [
    {
     "name": "stdout",
     "output_type": "stream",
     "text": [
      "Array arr2:\n",
      " [[ 1  2  3  4]\n",
      " [ 5  6  7  8]\n",
      " [ 9 10 11 12]]\n",
      "Element at 0th row and 0th column of arr2 is:  1\n",
      "Element at 1nd row and 2nd column of arr2 is:  7\n"
     ]
    }
   ],
   "source": [
    "import numpy as np\n",
    "arr=np.arange(1,13)\n",
    "arr2=arr.reshape(3,4)\n",
    "print(\"Array arr2:\\n\",arr2)\n",
    "print(\"Element at 0th row and 0th column of arr2 is: \",arr2[0][0])\n",
    "print(\"Element at 1nd row and 2nd column of arr2 is: \",arr2[1][2])"
   ]
  },
  {
   "cell_type": "markdown",
   "metadata": {},
   "source": [
    "Indexing in 3 Dimensions"
   ]
  },
  {
   "cell_type": "code",
   "execution_count": 52,
   "metadata": {},
   "outputs": [
    {
     "name": "stdout",
     "output_type": "stream",
     "text": [
      "Array arr2:\n",
      " [[[ 0  1  2]\n",
      "  [ 3  4  5]]\n",
      "\n",
      " [[ 6  7  8]\n",
      "  [ 9 10 11]]]\n",
      "Element:  11\n"
     ]
    }
   ],
   "source": [
    "import numpy as np\n",
    "arr=np.arange(12)\n",
    "arr2=arr.reshape(2,2,3)\n",
    "print(\"Array arr2:\\n\",arr2)\n",
    "print(\"Element: \",arr2[1,1,2])"
   ]
  },
  {
   "cell_type": "markdown",
   "metadata": {},
   "source": [
    "Slicing an Array\n",
    "- To access elements from numpy array in specific range, use numpy indexing.\n",
    "- A subtuple, substring, or sublist is produced from a tuple, string, or list respectively.\n",
    "- The same principles that apply to python lists also apply to numpy arrays when it comes to slicing."
   ]
  },
  {
   "cell_type": "markdown",
   "metadata": {},
   "source": [
    "Slicing 1-D Array"
   ]
  },
  {
   "cell_type": "code",
   "execution_count": 56,
   "metadata": {},
   "outputs": [
    {
     "name": "stdout",
     "output_type": "stream",
     "text": [
      "Array arr:  [0 1 2 3 4 5]\n",
      "Sliced element of array:  [1 2 3]\n"
     ]
    }
   ],
   "source": [
    "import numpy as np\n",
    "arr=np.arange(6)\n",
    "print(\"Array arr: \",arr)\n",
    "print(\"Sliced element of array: \",arr[1:4])"
   ]
  },
  {
   "cell_type": "markdown",
   "metadata": {},
   "source": [
    "Slicing 2-D Arrays"
   ]
  },
  {
   "cell_type": "code",
   "execution_count": 64,
   "metadata": {},
   "outputs": [
    {
     "name": "stdout",
     "output_type": "stream",
     "text": [
      "Array arr: \n",
      " [[ 0  1  2  3]\n",
      " [ 4  5  6  7]\n",
      " [ 8  9 10 11]]\n",
      "\n",
      "\n",
      "Element of 1st row and 1st column upto last column \n",
      " [[ 5  6  7]\n",
      " [ 9 10 11]]\n"
     ]
    }
   ],
   "source": [
    "import numpy as np\n",
    "arr=np.arange(12)\n",
    "arr2=arr.reshape(3,4)\n",
    "print(\"Array arr: \\n\",arr2)\n",
    "print(\"\\n\")\n",
    "print(\"Element of 1st row and 1st column upto last column \\n\",arr2[1:,1:4])"
   ]
  },
  {
   "cell_type": "markdown",
   "metadata": {},
   "source": [
    "Broadcasting\n",
    "- Broadcasting explains the way NumPy handles arrays of various shapes when performing arithmetic operations"
   ]
  },
  {
   "cell_type": "code",
   "execution_count": 72,
   "metadata": {},
   "outputs": [
    {
     "name": "stdout",
     "output_type": "stream",
     "text": [
      "First array: \n",
      "[[ 0.  0.  0.]\n",
      " [10. 10. 10.]\n",
      " [20. 20. 20.]\n",
      " [30. 30. 30.]]\n",
      "Dimension of first array: 2\n",
      "\n",
      "\n",
      "Second array: \n",
      "[1. 2. 3.]\n",
      "Dimension of second array: 1\n",
      "\n",
      "\n",
      "First Array + Second Array:-\n",
      "[[ 1.  2.  3.]\n",
      " [11. 12. 13.]\n",
      " [21. 22. 23.]\n",
      " [31. 32. 33.]]\n"
     ]
    }
   ],
   "source": [
    "import numpy as np\n",
    "a=np.array([[0.0,0.0,0.0],[10.0,10.0,10.0],[20.0,20.0,20.0],[30.0,30.0,30.0]])\n",
    "b=np.array([1.0,2.0,3.0])\n",
    "\n",
    "print(\"First array: \")\n",
    "print(a)\n",
    "print(\"Dimension of first array:\",a.ndim)\n",
    "print(\"\\n\")\n",
    "\n",
    "print(\"Second array: \")\n",
    "print(b)\n",
    "print(\"Dimension of second array:\",b.ndim)\n",
    "print(\"\\n\")\n",
    "\n",
    "print(\"First Array + Second Array:-\")\n",
    "print(a+b)\n"
   ]
  },
  {
   "cell_type": "markdown",
   "metadata": {},
   "source": [
    "Structured Arrays\n",
    "- Various types and sizes of data are organised using it."
   ]
  },
  {
   "cell_type": "code",
   "execution_count": 76,
   "metadata": {},
   "outputs": [
    {
     "name": "stdout",
     "output_type": "stream",
     "text": [
      "[('Devin', 15, 20.5) ('James', 56, 58.5) ('Lara', 43, 40.3)\n",
      " ('123', 52, 54.6)]\n",
      "['Devin' 'James' 'Lara' '123']\n",
      "[15 56 43 52]\n",
      "[20.5 58.5 40.3 54.6]\n"
     ]
    }
   ],
   "source": [
    "# Structured array\n",
    "import numpy as np\n",
    "a=np.array([('Devin',15,20.5),('James',56,58.5),('Lara',43,40.3),(123,52,54.6)],dtype=[('name',(np.str_,15)),('age',np.int32),('weight',np.float64)])\n",
    "print(a)\n",
    "print(a[\"name\"])\n",
    "print(a[\"age\"])\n",
    "print(a[\"weight\"])"
   ]
  },
  {
   "cell_type": "markdown",
   "metadata": {},
   "source": [
    "Statistical Functions"
   ]
  },
  {
   "cell_type": "code",
   "execution_count": 87,
   "metadata": {},
   "outputs": [
    {
     "name": "stdout",
     "output_type": "stream",
     "text": [
      "[ 1  2  3  4  5  6  7  8  9 10 11 12 13 14 15]\n",
      "8.0\n",
      "8.0\n",
      "15\n",
      "1\n",
      "4.320493798938574\n",
      "18.666666666666668\n",
      "8.0\n",
      "8.0\n"
     ]
    }
   ],
   "source": [
    "import numpy as np\n",
    "arr=np.arange(1,16)\n",
    "print(arr)\n",
    "print(np.mean(arr))\n",
    "print(np.median(arr))\n",
    "print(np.amax(arr))\n",
    "print(np.amin(arr))\n",
    "print(np.std(arr))\n",
    "print(np.var(arr))\n",
    "print(np.percentile(arr,50))\n",
    "print(np.average(arr))"
   ]
  },
  {
   "cell_type": "code",
   "execution_count": 90,
   "metadata": {},
   "outputs": [
    {
     "data": {
      "text/plain": [
       "array([  1,   4,   9,  16,  25,  36,  49,  64,  81, 100, 121, 144, 169,\n",
       "       196, 225])"
      ]
     },
     "execution_count": 90,
     "metadata": {},
     "output_type": "execute_result"
    }
   ],
   "source": [
    "arr*arr"
   ]
  },
  {
   "cell_type": "code",
   "execution_count": 96,
   "metadata": {},
   "outputs": [
    {
     "data": {
      "text/plain": [
       "array([0, 0, 0, 0, 0, 0, 0, 0, 0, 0, 0, 0, 0, 0, 0])"
      ]
     },
     "execution_count": 96,
     "metadata": {},
     "output_type": "execute_result"
    }
   ],
   "source": [
    "arr-arr"
   ]
  },
  {
   "cell_type": "code",
   "execution_count": 97,
   "metadata": {},
   "outputs": [
    {
     "data": {
      "text/plain": [
       "array([1., 1., 1., 1., 1., 1., 1., 1., 1., 1., 1., 1., 1., 1., 1.])"
      ]
     },
     "execution_count": 97,
     "metadata": {},
     "output_type": "execute_result"
    }
   ],
   "source": [
    "arr/arr"
   ]
  },
  {
   "cell_type": "code",
   "execution_count": 98,
   "metadata": {},
   "outputs": [
    {
     "name": "stderr",
     "output_type": "stream",
     "text": [
      "C:\\Users\\Dishang\\AppData\\Local\\Temp\\ipykernel_10572\\351103285.py:4: RuntimeWarning: divide by zero encountered in divide\n",
      "  a/b\n"
     ]
    },
    {
     "data": {
      "text/plain": [
       "array([ 1., inf,  3., inf,  5.])"
      ]
     },
     "execution_count": 98,
     "metadata": {},
     "output_type": "execute_result"
    }
   ],
   "source": [
    "# Warning on division by zero but not an error just replaced with nan\n",
    "a=np.array([1,2,3,4,5])\n",
    "b=np.array([1,0,1,0,1])\n",
    "a/b"
   ]
  },
  {
   "cell_type": "code",
   "execution_count": 102,
   "metadata": {},
   "outputs": [
    {
     "data": {
      "text/plain": [
       "array([1.        , 0.5       , 0.33333333, 0.25      , 0.2       ,\n",
       "       0.16666667, 0.14285714, 0.125     , 0.11111111, 0.1       ,\n",
       "       0.09090909, 0.08333333, 0.07692308, 0.07142857, 0.06666667])"
      ]
     },
     "execution_count": 102,
     "metadata": {},
     "output_type": "execute_result"
    }
   ],
   "source": [
    "# Also warning but not an error instead infinity\n",
    "1/arr"
   ]
  },
  {
   "cell_type": "code",
   "execution_count": 106,
   "metadata": {},
   "outputs": [
    {
     "data": {
      "text/plain": [
       "array([   1,    8,   27,   64,  125,  216,  343,  512,  729, 1000, 1331,\n",
       "       1728, 2197, 2744, 3375], dtype=int32)"
      ]
     },
     "execution_count": 106,
     "metadata": {},
     "output_type": "execute_result"
    }
   ],
   "source": [
    "arr**3"
   ]
  }
 ],
 "metadata": {
  "kernelspec": {
   "display_name": "Python 3",
   "language": "python",
   "name": "python3"
  },
  "language_info": {
   "codemirror_mode": {
    "name": "ipython",
    "version": 3
   },
   "file_extension": ".py",
   "mimetype": "text/x-python",
   "name": "python",
   "nbconvert_exporter": "python",
   "pygments_lexer": "ipython3",
   "version": "3.10.8"
  }
 },
 "nbformat": 4,
 "nbformat_minor": 2
}
