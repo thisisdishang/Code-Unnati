{
 "cells": [
  {
   "cell_type": "markdown",
   "metadata": {},
   "source": [
    "### Pandas\n",
    "- Pandas is an open-source python library that uses powerful data structures to provide high-performance data manipulation and analysis.\n",
    "- It provides a variety of data structures and operations for manipulating numerical data and time series.\n",
    "- This library is based on the NumPy library."
   ]
  },
  {
   "cell_type": "markdown",
   "metadata": {},
   "source": [
    "Pandas Objects\n",
    "- Pandas objects can be thought of as enhanced version of NumPy structured arrays in which the rows and columns are identified with labels rather than simple integer indices.\n",
    "- There are three fundamental pandas data structures:<br>\n",
    "    1. Series<br>\n",
    "    2. DataFrame<br>\n",
    "    3. Index"
   ]
  },
  {
   "cell_type": "markdown",
   "metadata": {},
   "source": [
    "Series\n",
    "- Pandas series is a labelled one-dimensional array that can hold any type of data(integer, string, float, python object, and so on).\n",
    "- Pandas series is simply a columns in an excel spreadsheet.\n",
    "- Using the Series() method, we can easily convert a list, tuple, or dictionary into a series."
   ]
  },
  {
   "cell_type": "markdown",
   "metadata": {},
   "source": [
    "Creating a series"
   ]
  },
  {
   "cell_type": "code",
   "execution_count": 3,
   "metadata": {},
   "outputs": [
    {
     "name": "stdout",
     "output_type": "stream",
     "text": [
      "Series([], dtype: object)\n",
      "['g' 'e' 'e' 'k' 's']\n",
      "0    g\n",
      "1    e\n",
      "2    e\n",
      "3    k\n",
      "4    s\n",
      "dtype: object\n"
     ]
    },
    {
     "data": {
      "text/plain": [
       "'g'"
      ]
     },
     "execution_count": 3,
     "metadata": {},
     "output_type": "execute_result"
    }
   ],
   "source": [
    "import pandas as pd\n",
    "import numpy as np\n",
    "\n",
    "myser=pd.Series()\n",
    "print(myser)\n",
    "\n",
    "data=np.array(['g','e','e','k','s'])\n",
    "print(data)\n",
    "myser=pd.Series(data)\n",
    "print(myser)\n",
    "myser[0]"
   ]
  },
  {
   "cell_type": "markdown",
   "metadata": {},
   "source": [
    "Creating a series from lists"
   ]
  },
  {
   "cell_type": "code",
   "execution_count": 5,
   "metadata": {},
   "outputs": [
    {
     "name": "stdout",
     "output_type": "stream",
     "text": [
      "<class 'list'>\n",
      "0    10\n",
      "1    20\n",
      "2    30\n",
      "3    40\n",
      "4    50\n",
      "dtype: int64\n",
      "<class 'pandas.core.series.Series'>\n"
     ]
    }
   ],
   "source": [
    "mylist=[10,20,30,40,50]\n",
    "print(type(mylist))\n",
    "myseri=pd.Series(mylist)\n",
    "print(myseri)\n",
    "print(type(myseri))"
   ]
  },
  {
   "cell_type": "markdown",
   "metadata": {},
   "source": [
    "Pandas Index\n",
    "- Pandas index is an efficient tool for extracting particular rows and columns of data from a DataFrame.\n",
    "- Its job is to organise data and make it easily accessible."
   ]
  },
  {
   "cell_type": "markdown",
   "metadata": {},
   "source": [
    "Creating Index"
   ]
  },
  {
   "cell_type": "code",
   "execution_count": 9,
   "metadata": {},
   "outputs": [
    {
     "name": "stdout",
     "output_type": "stream",
     "text": [
      "                                              Name IATA ICAO         Callsign  \\\n",
      "0                                   Private flight    -  NaN              NaN   \n",
      "1                                      135 Airways  NaN  GNL          GENERAL   \n",
      "2                                    1Time Airline   1T  RNX          NEXTIME   \n",
      "3     2 Sqn No 1 Elementary Flying Training School  NaN  WYT              NaN   \n",
      "4                                  213 Flight Unit  NaN  TFU              NaN   \n",
      "...                                            ...  ...  ...              ...   \n",
      "6156                                   GX Airlines  NaN  CBG            SPRAY   \n",
      "6157                        Lynx Aviation (L3/SSX)  NaN  SSX           Shasta   \n",
      "6158                               Jetgo Australia   JG   \\N              NaN   \n",
      "6159                                  Air Carnival   2S   \\N              NaN   \n",
      "6160                                 Svyaz Rossiya   7R  SJM  RussianConnecty   \n",
      "\n",
      "             Country Active  \n",
      "0                NaN      Y  \n",
      "1      United States      N  \n",
      "2       South Africa      Y  \n",
      "3     United Kingdom      N  \n",
      "4             Russia      N  \n",
      "...              ...    ...  \n",
      "6156           China      Y  \n",
      "6157   United States      N  \n",
      "6158       Australia      Y  \n",
      "6159           India      Y  \n",
      "6160          Russia      Y  \n",
      "\n",
      "[6161 rows x 6 columns]\n"
     ]
    }
   ],
   "source": [
    "data=pd.read_csv(\"airlines.csv\")\n",
    "print(data)"
   ]
  },
  {
   "cell_type": "code",
   "execution_count": 10,
   "metadata": {},
   "outputs": [
    {
     "data": {
      "text/html": [
       "<div>\n",
       "<style scoped>\n",
       "    .dataframe tbody tr th:only-of-type {\n",
       "        vertical-align: middle;\n",
       "    }\n",
       "\n",
       "    .dataframe tbody tr th {\n",
       "        vertical-align: top;\n",
       "    }\n",
       "\n",
       "    .dataframe thead th {\n",
       "        text-align: right;\n",
       "    }\n",
       "</style>\n",
       "<table border=\"1\" class=\"dataframe\">\n",
       "  <thead>\n",
       "    <tr style=\"text-align: right;\">\n",
       "      <th></th>\n",
       "      <th>Name</th>\n",
       "      <th>IATA</th>\n",
       "      <th>ICAO</th>\n",
       "      <th>Callsign</th>\n",
       "      <th>Country</th>\n",
       "      <th>Active</th>\n",
       "    </tr>\n",
       "  </thead>\n",
       "  <tbody>\n",
       "    <tr>\n",
       "      <th>0</th>\n",
       "      <td>Private flight</td>\n",
       "      <td>-</td>\n",
       "      <td>NaN</td>\n",
       "      <td>NaN</td>\n",
       "      <td>NaN</td>\n",
       "      <td>Y</td>\n",
       "    </tr>\n",
       "    <tr>\n",
       "      <th>1</th>\n",
       "      <td>135 Airways</td>\n",
       "      <td>NaN</td>\n",
       "      <td>GNL</td>\n",
       "      <td>GENERAL</td>\n",
       "      <td>United States</td>\n",
       "      <td>N</td>\n",
       "    </tr>\n",
       "    <tr>\n",
       "      <th>2</th>\n",
       "      <td>1Time Airline</td>\n",
       "      <td>1T</td>\n",
       "      <td>RNX</td>\n",
       "      <td>NEXTIME</td>\n",
       "      <td>South Africa</td>\n",
       "      <td>Y</td>\n",
       "    </tr>\n",
       "    <tr>\n",
       "      <th>3</th>\n",
       "      <td>2 Sqn No 1 Elementary Flying Training School</td>\n",
       "      <td>NaN</td>\n",
       "      <td>WYT</td>\n",
       "      <td>NaN</td>\n",
       "      <td>United Kingdom</td>\n",
       "      <td>N</td>\n",
       "    </tr>\n",
       "    <tr>\n",
       "      <th>4</th>\n",
       "      <td>213 Flight Unit</td>\n",
       "      <td>NaN</td>\n",
       "      <td>TFU</td>\n",
       "      <td>NaN</td>\n",
       "      <td>Russia</td>\n",
       "      <td>N</td>\n",
       "    </tr>\n",
       "  </tbody>\n",
       "</table>\n",
       "</div>"
      ],
      "text/plain": [
       "                                           Name IATA ICAO Callsign  \\\n",
       "0                                Private flight    -  NaN      NaN   \n",
       "1                                   135 Airways  NaN  GNL  GENERAL   \n",
       "2                                 1Time Airline   1T  RNX  NEXTIME   \n",
       "3  2 Sqn No 1 Elementary Flying Training School  NaN  WYT      NaN   \n",
       "4                               213 Flight Unit  NaN  TFU      NaN   \n",
       "\n",
       "          Country Active  \n",
       "0             NaN      Y  \n",
       "1   United States      N  \n",
       "2    South Africa      Y  \n",
       "3  United Kingdom      N  \n",
       "4          Russia      N  "
      ]
     },
     "execution_count": 10,
     "metadata": {},
     "output_type": "execute_result"
    }
   ],
   "source": [
    "# head() method give first 5 rows data from file\n",
    "data.head()"
   ]
  },
  {
   "cell_type": "code",
   "execution_count": 11,
   "metadata": {},
   "outputs": [
    {
     "data": {
      "text/html": [
       "<div>\n",
       "<style scoped>\n",
       "    .dataframe tbody tr th:only-of-type {\n",
       "        vertical-align: middle;\n",
       "    }\n",
       "\n",
       "    .dataframe tbody tr th {\n",
       "        vertical-align: top;\n",
       "    }\n",
       "\n",
       "    .dataframe thead th {\n",
       "        text-align: right;\n",
       "    }\n",
       "</style>\n",
       "<table border=\"1\" class=\"dataframe\">\n",
       "  <thead>\n",
       "    <tr style=\"text-align: right;\">\n",
       "      <th></th>\n",
       "      <th>Name</th>\n",
       "      <th>IATA</th>\n",
       "      <th>ICAO</th>\n",
       "      <th>Callsign</th>\n",
       "      <th>Country</th>\n",
       "      <th>Active</th>\n",
       "    </tr>\n",
       "  </thead>\n",
       "  <tbody>\n",
       "    <tr>\n",
       "      <th>6156</th>\n",
       "      <td>GX Airlines</td>\n",
       "      <td>NaN</td>\n",
       "      <td>CBG</td>\n",
       "      <td>SPRAY</td>\n",
       "      <td>China</td>\n",
       "      <td>Y</td>\n",
       "    </tr>\n",
       "    <tr>\n",
       "      <th>6157</th>\n",
       "      <td>Lynx Aviation (L3/SSX)</td>\n",
       "      <td>NaN</td>\n",
       "      <td>SSX</td>\n",
       "      <td>Shasta</td>\n",
       "      <td>United States</td>\n",
       "      <td>N</td>\n",
       "    </tr>\n",
       "    <tr>\n",
       "      <th>6158</th>\n",
       "      <td>Jetgo Australia</td>\n",
       "      <td>JG</td>\n",
       "      <td>\\N</td>\n",
       "      <td>NaN</td>\n",
       "      <td>Australia</td>\n",
       "      <td>Y</td>\n",
       "    </tr>\n",
       "    <tr>\n",
       "      <th>6159</th>\n",
       "      <td>Air Carnival</td>\n",
       "      <td>2S</td>\n",
       "      <td>\\N</td>\n",
       "      <td>NaN</td>\n",
       "      <td>India</td>\n",
       "      <td>Y</td>\n",
       "    </tr>\n",
       "    <tr>\n",
       "      <th>6160</th>\n",
       "      <td>Svyaz Rossiya</td>\n",
       "      <td>7R</td>\n",
       "      <td>SJM</td>\n",
       "      <td>RussianConnecty</td>\n",
       "      <td>Russia</td>\n",
       "      <td>Y</td>\n",
       "    </tr>\n",
       "  </tbody>\n",
       "</table>\n",
       "</div>"
      ],
      "text/plain": [
       "                        Name IATA ICAO         Callsign        Country Active\n",
       "6156             GX Airlines  NaN  CBG            SPRAY          China      Y\n",
       "6157  Lynx Aviation (L3/SSX)  NaN  SSX           Shasta  United States      N\n",
       "6158         Jetgo Australia   JG   \\N              NaN      Australia      Y\n",
       "6159            Air Carnival   2S   \\N              NaN          India      Y\n",
       "6160           Svyaz Rossiya   7R  SJM  RussianConnecty         Russia      Y"
      ]
     },
     "execution_count": 11,
     "metadata": {},
     "output_type": "execute_result"
    }
   ],
   "source": [
    "# tail() method give last 5 rows data from file\n",
    "data.tail()"
   ]
  },
  {
   "cell_type": "code",
   "execution_count": 12,
   "metadata": {},
   "outputs": [
    {
     "data": {
      "text/plain": [
       "(6161, 6)"
      ]
     },
     "execution_count": 12,
     "metadata": {},
     "output_type": "execute_result"
    }
   ],
   "source": [
    "data.shape"
   ]
  },
  {
   "cell_type": "code",
   "execution_count": 13,
   "metadata": {},
   "outputs": [
    {
     "data": {
      "text/plain": [
       "Index(['Name', 'IATA', 'ICAO', 'Callsign', 'Country', 'Active'], dtype='object')"
      ]
     },
     "execution_count": 13,
     "metadata": {},
     "output_type": "execute_result"
    }
   ],
   "source": [
    "data.columns"
   ]
  },
  {
   "cell_type": "code",
   "execution_count": 33,
   "metadata": {},
   "outputs": [
    {
     "data": {
      "text/plain": [
       "0                  NaN\n",
       "1        United States\n",
       "2         South Africa\n",
       "3       United Kingdom\n",
       "4               Russia\n",
       "             ...      \n",
       "6156             China\n",
       "6157     United States\n",
       "6158         Australia\n",
       "6159             India\n",
       "6160            Russia\n",
       "Name: Country, Length: 6161, dtype: object"
      ]
     },
     "execution_count": 33,
     "metadata": {},
     "output_type": "execute_result"
    }
   ],
   "source": [
    "data['Country']"
   ]
  },
  {
   "cell_type": "code",
   "execution_count": 34,
   "metadata": {},
   "outputs": [
    {
     "data": {
      "text/plain": [
       "Name           0\n",
       "IATA        4627\n",
       "ICAO          86\n",
       "Callsign     808\n",
       "Country       15\n",
       "Active         0\n",
       "dtype: int64"
      ]
     },
     "execution_count": 34,
     "metadata": {},
     "output_type": "execute_result"
    }
   ],
   "source": [
    "data.isnull().sum()"
   ]
  },
  {
   "cell_type": "code",
   "execution_count": 35,
   "metadata": {},
   "outputs": [
    {
     "name": "stdout",
     "output_type": "stream",
     "text": [
      "<class 'pandas.core.frame.DataFrame'>\n",
      "RangeIndex: 6161 entries, 0 to 6160\n",
      "Data columns (total 6 columns):\n",
      " #   Column    Non-Null Count  Dtype \n",
      "---  ------    --------------  ----- \n",
      " 0   Name      6161 non-null   object\n",
      " 1   IATA      1534 non-null   object\n",
      " 2   ICAO      6075 non-null   object\n",
      " 3   Callsign  5353 non-null   object\n",
      " 4   Country   6146 non-null   object\n",
      " 5   Active    6161 non-null   object\n",
      "dtypes: object(6)\n",
      "memory usage: 288.9+ KB\n"
     ]
    }
   ],
   "source": [
    "data.info()"
   ]
  },
  {
   "cell_type": "code",
   "execution_count": 36,
   "metadata": {},
   "outputs": [
    {
     "data": {
      "text/html": [
       "<div>\n",
       "<style scoped>\n",
       "    .dataframe tbody tr th:only-of-type {\n",
       "        vertical-align: middle;\n",
       "    }\n",
       "\n",
       "    .dataframe tbody tr th {\n",
       "        vertical-align: top;\n",
       "    }\n",
       "\n",
       "    .dataframe thead th {\n",
       "        text-align: right;\n",
       "    }\n",
       "</style>\n",
       "<table border=\"1\" class=\"dataframe\">\n",
       "  <thead>\n",
       "    <tr style=\"text-align: right;\">\n",
       "      <th></th>\n",
       "      <th>Name</th>\n",
       "      <th>IATA</th>\n",
       "      <th>ICAO</th>\n",
       "      <th>Callsign</th>\n",
       "      <th>Country</th>\n",
       "      <th>Active</th>\n",
       "    </tr>\n",
       "  </thead>\n",
       "  <tbody>\n",
       "    <tr>\n",
       "      <th>count</th>\n",
       "      <td>6161</td>\n",
       "      <td>1534</td>\n",
       "      <td>6075</td>\n",
       "      <td>5353</td>\n",
       "      <td>6146</td>\n",
       "      <td>6161</td>\n",
       "    </tr>\n",
       "    <tr>\n",
       "      <th>unique</th>\n",
       "      <td>6072</td>\n",
       "      <td>1121</td>\n",
       "      <td>5854</td>\n",
       "      <td>5262</td>\n",
       "      <td>277</td>\n",
       "      <td>3</td>\n",
       "    </tr>\n",
       "    <tr>\n",
       "      <th>top</th>\n",
       "      <td>Royal Air Force</td>\n",
       "      <td>1I</td>\n",
       "      <td>\\N</td>\n",
       "      <td>Inc.</td>\n",
       "      <td>United States</td>\n",
       "      <td>N</td>\n",
       "    </tr>\n",
       "    <tr>\n",
       "      <th>freq</th>\n",
       "      <td>5</td>\n",
       "      <td>7</td>\n",
       "      <td>188</td>\n",
       "      <td>20</td>\n",
       "      <td>1099</td>\n",
       "      <td>4906</td>\n",
       "    </tr>\n",
       "  </tbody>\n",
       "</table>\n",
       "</div>"
      ],
      "text/plain": [
       "                   Name  IATA  ICAO Callsign        Country Active\n",
       "count              6161  1534  6075     5353           6146   6161\n",
       "unique             6072  1121  5854     5262            277      3\n",
       "top     Royal Air Force    1I    \\N     Inc.  United States      N\n",
       "freq                  5     7   188       20           1099   4906"
      ]
     },
     "execution_count": 36,
     "metadata": {},
     "output_type": "execute_result"
    }
   ],
   "source": [
    "data.describe()"
   ]
  },
  {
   "cell_type": "markdown",
   "metadata": {},
   "source": [
    "Pandas DataFrame\n",
    "- Pandas has a two dimensional data structure with corresponding labels is known as DataFrame.\n",
    "- Spreadsheets used in Excel or Calc or SQL tables are similar to DataFrames.\n",
    "- Pandas DataFrame consists of three main components: the data, the index and the columns."
   ]
  },
  {
   "cell_type": "markdown",
   "metadata": {},
   "source": [
    "Creating a Pandas DataFrame"
   ]
  },
  {
   "cell_type": "code",
   "execution_count": 37,
   "metadata": {},
   "outputs": [
    {
     "name": "stdout",
     "output_type": "stream",
     "text": [
      "          0\n",
      "0     Venom\n",
      "1  Scarlete\n",
      "2    Thomas\n",
      "3     James\n",
      "   Numbers\n",
      "0       10\n",
      "1       20\n",
      "2       30\n",
      "3       40\n",
      "4       50\n"
     ]
    }
   ],
   "source": [
    "mylist2=['Venom','Scarlete','Thomas','James']\n",
    "DF=pd.DataFrame(mylist2)\n",
    "DF2=pd.DataFrame([10,20,30,40,50],columns=[\"Numbers\"])\n",
    "print(DF)\n",
    "print(DF2)"
   ]
  },
  {
   "cell_type": "markdown",
   "metadata": {},
   "source": [
    "Creating DataFrame from dictionary of ndarray / lists<br>\n",
    "Note: To generate a DataFrame from a dict of ndarray/lists, each narray must be the same length."
   ]
  },
  {
   "cell_type": "code",
   "execution_count": 38,
   "metadata": {},
   "outputs": [
    {
     "name": "stdout",
     "output_type": "stream",
     "text": [
      "     Name  Age\n",
      "0    Carl   20\n",
      "1    Keni   25\n",
      "2   Stark   19\n",
      "3  George   18\n"
     ]
    }
   ],
   "source": [
    "mydict={'Name':['Carl','Keni','Stark','George'],'Age':[20,25,19,18]}\n",
    "DF=pd.DataFrame(mydict)\n",
    "print(DF)"
   ]
  },
  {
   "cell_type": "markdown",
   "metadata": {},
   "source": [
    "Reindexing\n",
    "- Reindexing modifies the row and column labels of DataFrame.\n",
    "- It denotes verifying that the data corresponds to a specific set of labels along an estabished axis.\n",
    "- To reindex the DataFrame, use the reindex() function.\n",
    "- Values in the new index that do not have matching records in the DataFrame are by default given the value NaN."
   ]
  },
  {
   "cell_type": "code",
   "execution_count": 39,
   "metadata": {},
   "outputs": [
    {
     "data": {
      "text/html": [
       "<div>\n",
       "<style scoped>\n",
       "    .dataframe tbody tr th:only-of-type {\n",
       "        vertical-align: middle;\n",
       "    }\n",
       "\n",
       "    .dataframe tbody tr th {\n",
       "        vertical-align: top;\n",
       "    }\n",
       "\n",
       "    .dataframe thead th {\n",
       "        text-align: right;\n",
       "    }\n",
       "</style>\n",
       "<table border=\"1\" class=\"dataframe\">\n",
       "  <thead>\n",
       "    <tr style=\"text-align: right;\">\n",
       "      <th></th>\n",
       "      <th>P</th>\n",
       "      <th>Q</th>\n",
       "      <th>R</th>\n",
       "      <th>S</th>\n",
       "    </tr>\n",
       "  </thead>\n",
       "  <tbody>\n",
       "    <tr>\n",
       "      <th>A</th>\n",
       "      <td>1</td>\n",
       "      <td>5</td>\n",
       "      <td>12</td>\n",
       "      <td>17</td>\n",
       "    </tr>\n",
       "    <tr>\n",
       "      <th>B</th>\n",
       "      <td>2</td>\n",
       "      <td>6</td>\n",
       "      <td>13</td>\n",
       "      <td>18</td>\n",
       "    </tr>\n",
       "    <tr>\n",
       "      <th>C</th>\n",
       "      <td>3</td>\n",
       "      <td>7</td>\n",
       "      <td>14</td>\n",
       "      <td>19</td>\n",
       "    </tr>\n",
       "    <tr>\n",
       "      <th>D</th>\n",
       "      <td>4</td>\n",
       "      <td>8</td>\n",
       "      <td>15</td>\n",
       "      <td>20</td>\n",
       "    </tr>\n",
       "    <tr>\n",
       "      <th>E</th>\n",
       "      <td>5</td>\n",
       "      <td>9</td>\n",
       "      <td>16</td>\n",
       "      <td>16</td>\n",
       "    </tr>\n",
       "  </tbody>\n",
       "</table>\n",
       "</div>"
      ],
      "text/plain": [
       "   P  Q   R   S\n",
       "A  1  5  12  17\n",
       "B  2  6  13  18\n",
       "C  3  7  14  19\n",
       "D  4  8  15  20\n",
       "E  5  9  16  16"
      ]
     },
     "execution_count": 39,
     "metadata": {},
     "output_type": "execute_result"
    }
   ],
   "source": [
    "rein=pd.DataFrame({\"P\":[1,2,3,4,5],\"Q\":[5,6,7,8,9],\"R\":[12,13,14,15,16],\"S\":[17,18,19,20,16]},index=[\"A\",\"B\",\"C\",\"D\",\"E\"])\n",
    "rein"
   ]
  },
  {
   "cell_type": "code",
   "execution_count": 41,
   "metadata": {},
   "outputs": [
    {
     "data": {
      "text/html": [
       "<div>\n",
       "<style scoped>\n",
       "    .dataframe tbody tr th:only-of-type {\n",
       "        vertical-align: middle;\n",
       "    }\n",
       "\n",
       "    .dataframe tbody tr th {\n",
       "        vertical-align: top;\n",
       "    }\n",
       "\n",
       "    .dataframe thead th {\n",
       "        text-align: right;\n",
       "    }\n",
       "</style>\n",
       "<table border=\"1\" class=\"dataframe\">\n",
       "  <thead>\n",
       "    <tr style=\"text-align: right;\">\n",
       "      <th></th>\n",
       "      <th>P</th>\n",
       "      <th>Q</th>\n",
       "      <th>R</th>\n",
       "      <th>S</th>\n",
       "    </tr>\n",
       "  </thead>\n",
       "  <tbody>\n",
       "    <tr>\n",
       "      <th>1</th>\n",
       "      <td>NaN</td>\n",
       "      <td>NaN</td>\n",
       "      <td>NaN</td>\n",
       "      <td>NaN</td>\n",
       "    </tr>\n",
       "    <tr>\n",
       "      <th>2</th>\n",
       "      <td>NaN</td>\n",
       "      <td>NaN</td>\n",
       "      <td>NaN</td>\n",
       "      <td>NaN</td>\n",
       "    </tr>\n",
       "    <tr>\n",
       "      <th>3</th>\n",
       "      <td>NaN</td>\n",
       "      <td>NaN</td>\n",
       "      <td>NaN</td>\n",
       "      <td>NaN</td>\n",
       "    </tr>\n",
       "    <tr>\n",
       "      <th>4</th>\n",
       "      <td>NaN</td>\n",
       "      <td>NaN</td>\n",
       "      <td>NaN</td>\n",
       "      <td>NaN</td>\n",
       "    </tr>\n",
       "    <tr>\n",
       "      <th>5</th>\n",
       "      <td>NaN</td>\n",
       "      <td>NaN</td>\n",
       "      <td>NaN</td>\n",
       "      <td>NaN</td>\n",
       "    </tr>\n",
       "  </tbody>\n",
       "</table>\n",
       "</div>"
      ],
      "text/plain": [
       "    P   Q   R   S\n",
       "1 NaN NaN NaN NaN\n",
       "2 NaN NaN NaN NaN\n",
       "3 NaN NaN NaN NaN\n",
       "4 NaN NaN NaN NaN\n",
       "5 NaN NaN NaN NaN"
      ]
     },
     "execution_count": 41,
     "metadata": {},
     "output_type": "execute_result"
    }
   ],
   "source": [
    "# Notice that the new indexes are populated with NaN values\n",
    "rein.reindex([\"1\",\"2\",\"3\",\"4\",\"5\"])"
   ]
  },
  {
   "cell_type": "code",
   "execution_count": 42,
   "metadata": {},
   "outputs": [
    {
     "data": {
      "text/html": [
       "<div>\n",
       "<style scoped>\n",
       "    .dataframe tbody tr th:only-of-type {\n",
       "        vertical-align: middle;\n",
       "    }\n",
       "\n",
       "    .dataframe tbody tr th {\n",
       "        vertical-align: top;\n",
       "    }\n",
       "\n",
       "    .dataframe thead th {\n",
       "        text-align: right;\n",
       "    }\n",
       "</style>\n",
       "<table border=\"1\" class=\"dataframe\">\n",
       "  <thead>\n",
       "    <tr style=\"text-align: right;\">\n",
       "      <th></th>\n",
       "      <th>P</th>\n",
       "      <th>Q</th>\n",
       "      <th>R</th>\n",
       "      <th>S</th>\n",
       "    </tr>\n",
       "  </thead>\n",
       "  <tbody>\n",
       "    <tr>\n",
       "      <th>a</th>\n",
       "      <td>25</td>\n",
       "      <td>25</td>\n",
       "      <td>25</td>\n",
       "      <td>25</td>\n",
       "    </tr>\n",
       "    <tr>\n",
       "      <th>b</th>\n",
       "      <td>25</td>\n",
       "      <td>25</td>\n",
       "      <td>25</td>\n",
       "      <td>25</td>\n",
       "    </tr>\n",
       "    <tr>\n",
       "      <th>c</th>\n",
       "      <td>25</td>\n",
       "      <td>25</td>\n",
       "      <td>25</td>\n",
       "      <td>25</td>\n",
       "    </tr>\n",
       "    <tr>\n",
       "      <th>d</th>\n",
       "      <td>25</td>\n",
       "      <td>25</td>\n",
       "      <td>25</td>\n",
       "      <td>25</td>\n",
       "    </tr>\n",
       "    <tr>\n",
       "      <th>e</th>\n",
       "      <td>25</td>\n",
       "      <td>25</td>\n",
       "      <td>25</td>\n",
       "      <td>25</td>\n",
       "    </tr>\n",
       "  </tbody>\n",
       "</table>\n",
       "</div>"
      ],
      "text/plain": [
       "    P   Q   R   S\n",
       "a  25  25  25  25\n",
       "b  25  25  25  25\n",
       "c  25  25  25  25\n",
       "d  25  25  25  25\n",
       "e  25  25  25  25"
      ]
     },
     "execution_count": 42,
     "metadata": {},
     "output_type": "execute_result"
    }
   ],
   "source": [
    "# We can fill in the missing values using the fill_value parameter\n",
    "rein.reindex([\"a\",\"b\",\"c\",\"d\",\"e\"],fill_value=25)"
   ]
  },
  {
   "cell_type": "markdown",
   "metadata": {},
   "source": [
    "Pandas Sort"
   ]
  },
  {
   "cell_type": "markdown",
   "metadata": {},
   "source": [
    "There are two kinds of sorting available in pandas:-\n",
    "- By label\n",
    "- By actual value"
   ]
  },
  {
   "cell_type": "markdown",
   "metadata": {},
   "source": [
    "1. By label: When using the sort_index() method, DataFrame can be sorted by passing the axis arguments and the sorting order. Row labels are sorted by default in ascending order."
   ]
  },
  {
   "cell_type": "markdown",
   "metadata": {},
   "source": [
    "Sort the index"
   ]
  },
  {
   "cell_type": "code",
   "execution_count": 29,
   "metadata": {},
   "outputs": [
    {
     "name": "stdout",
     "output_type": "stream",
     "text": [
      "    column2   column1\n",
      "1 -0.717842  0.929385\n",
      "4 -0.430439 -0.003901\n",
      "6  1.787624 -1.232624\n",
      "2  1.585708 -0.315589\n",
      "3 -0.307780  0.011777\n",
      "5  0.021609  2.241835\n",
      "8 -0.588367 -0.222236\n",
      "7  0.200973 -1.643809\n",
      "    column2   column1\n",
      "1 -0.717842  0.929385\n",
      "2  1.585708 -0.315589\n",
      "3 -0.307780  0.011777\n",
      "4 -0.430439 -0.003901\n",
      "5  0.021609  2.241835\n",
      "6  1.787624 -1.232624\n",
      "7  0.200973 -1.643809\n",
      "8 -0.588367 -0.222236\n"
     ]
    }
   ],
   "source": [
    "unsortedDF=pd.DataFrame(np.random.randn(8,2),index=[1,4,6,2,3,5,8,7],columns=['column2','column1'])\n",
    "print(unsortedDF)\n",
    "sortedDF=unsortedDF.sort_index()\n",
    "print(sortedDF)"
   ]
  },
  {
   "cell_type": "markdown",
   "metadata": {},
   "source": [
    "Sort the columns"
   ]
  },
  {
   "cell_type": "code",
   "execution_count": 22,
   "metadata": {},
   "outputs": [
    {
     "name": "stdout",
     "output_type": "stream",
     "text": [
      "    column1   column2\n",
      "1 -0.998267  0.491271\n",
      "4 -0.064724 -0.288120\n",
      "6 -1.114242 -1.223622\n",
      "2 -0.517045 -0.638181\n",
      "3  0.591919  1.675234\n",
      "5  1.479163 -0.511360\n",
      "8  0.405411 -0.633551\n",
      "7 -1.175506 -0.492848\n"
     ]
    }
   ],
   "source": [
    "sortedDF=unsortedDF.sort_index(axis=1)\n",
    "print(sortedDF)"
   ]
  },
  {
   "cell_type": "markdown",
   "metadata": {},
   "source": [
    "Order of Sorting"
   ]
  },
  {
   "cell_type": "code",
   "execution_count": 21,
   "metadata": {},
   "outputs": [
    {
     "name": "stdout",
     "output_type": "stream",
     "text": [
      "    column2   column1\n",
      "8 -0.633551  0.405411\n",
      "7 -0.492848 -1.175506\n",
      "6 -1.223622 -1.114242\n",
      "5 -0.511360  1.479163\n",
      "4 -0.288120 -0.064724\n",
      "3  1.675234  0.591919\n",
      "2 -0.638181 -0.517045\n",
      "1  0.491271 -0.998267\n"
     ]
    }
   ],
   "source": [
    "sortedDF=unsortedDF.sort_index(ascending=False)\n",
    "print(sortedDF)"
   ]
  },
  {
   "cell_type": "markdown",
   "metadata": {},
   "source": [
    "2. By actual value: Like index sorting, sort_values() is a method for sorting by values. It accepts a 'by' argument which will use the column name of the DataFrame to sort the values."
   ]
  },
  {
   "cell_type": "code",
   "execution_count": 28,
   "metadata": {},
   "outputs": [
    {
     "name": "stdout",
     "output_type": "stream",
     "text": [
      "   Column1  Column2\n",
      "0        2        1\n",
      "2        1        2\n",
      "1        1        3\n",
      "3        1        4\n"
     ]
    }
   ],
   "source": [
    "unsortedDF2=pd.DataFrame({'Column1':[2,1,1,1],'Column2':[1,3,2,4]})\n",
    "sortedDF2=unsortedDF2.sort_values(by='Column2')\n",
    "print(sortedDF2)"
   ]
  },
  {
   "cell_type": "markdown",
   "metadata": {},
   "source": [
    "Working with text data\n",
    "- Working with string data is made simple by a set of string functions that are part of pandas.\n",
    "- These functions ignore missing / NaN values."
   ]
  },
  {
   "cell_type": "code",
   "execution_count": 36,
   "metadata": {},
   "outputs": [
    {
     "name": "stdout",
     "output_type": "stream",
     "text": [
      "0    tommas\n",
      "1    jarvis\n",
      "2       sui\n",
      "3        07\n",
      "4       NaN\n",
      "5    parvez\n",
      "6      seri\n",
      "dtype: object\n"
     ]
    }
   ],
   "source": [
    "ser=pd.Series(['Tommas','Jarvis','Sui','07',np.nan,'Parvez','Seri'])\n",
    "print(ser.str.lower())"
   ]
  },
  {
   "cell_type": "code",
   "execution_count": 31,
   "metadata": {},
   "outputs": [
    {
     "name": "stdout",
     "output_type": "stream",
     "text": [
      "0    TOMMAS\n",
      "1    JARVIS\n",
      "2       SUI\n",
      "3    PARVEZ\n",
      "4      SERI\n",
      "dtype: object\n"
     ]
    }
   ],
   "source": [
    "print(ser.str.upper())"
   ]
  },
  {
   "cell_type": "code",
   "execution_count": 63,
   "metadata": {},
   "outputs": [
    {
     "name": "stdout",
     "output_type": "stream",
     "text": [
      "My DataFrame :- \n",
      "    Subject1  Subject2  Subject3\n",
      "0      80.0      98.0       NaN\n",
      "1       NaN      55.0      98.0\n",
      "2      86.0      94.0      96.0\n",
      "3       NaN      75.0       NaN\n",
      "4      90.0       NaN      69.0\n",
      "\n",
      "Maximum Marks Subject Wise:-\n",
      " Subject1    90.0\n",
      "Subject2    98.0\n",
      "Subject3    98.0\n",
      "dtype: float64\n"
     ]
    }
   ],
   "source": [
    "dataset={'Subject1':[80,np.nan,86,np.nan,90],'Subject2':[98,55,94,75,np.nan],'Subject3':[np.nan,98,96,np.nan,69]}\n",
    "DF=pd.DataFrame(dataset)\n",
    "print(\"My DataFrame :- \\n\",DF)\n",
    "print(\"\\nMaximum Marks Subject Wise:-\\n\",DF.max())"
   ]
  },
  {
   "cell_type": "code",
   "execution_count": 64,
   "metadata": {},
   "outputs": [
    {
     "name": "stdout",
     "output_type": "stream",
     "text": [
      "Minimum Marks Subject Wise:-\n",
      " Subject1    80.0\n",
      "Subject2    55.0\n",
      "Subject3    69.0\n",
      "dtype: float64\n"
     ]
    }
   ],
   "source": [
    "print(\"Minimum Marks Subject Wise:-\\n\",DF.min())"
   ]
  },
  {
   "cell_type": "code",
   "execution_count": 65,
   "metadata": {},
   "outputs": [
    {
     "name": "stdout",
     "output_type": "stream",
     "text": [
      "Median:-\n",
      " Subject1    86.0\n",
      "Subject2    84.5\n",
      "Subject3    96.0\n",
      "dtype: float64\n"
     ]
    }
   ],
   "source": [
    "print(\"Median:-\\n\",DF.median())"
   ]
  },
  {
   "cell_type": "code",
   "execution_count": 66,
   "metadata": {},
   "outputs": [
    {
     "name": "stdout",
     "output_type": "stream",
     "text": [
      "Count of non-empty values:-\n",
      " Subject1    3\n",
      "Subject2    4\n",
      "Subject3    3\n",
      "dtype: int64\n"
     ]
    }
   ],
   "source": [
    "print(\"Count of non-empty values:-\\n\",DF.count())"
   ]
  },
  {
   "cell_type": "markdown",
   "metadata": {},
   "source": [
    "Indexing and Selecting data\n",
    "- In pandas, selecting specific rows and columns of data fron a DataFrame constitutes indexing.\n",
    "- Selecting all the rows and some of the columns, some of the rows and all the columns or a portion of each row and each column is what is referred to as indexing.\n",
    "- Another term for indexing is subset selection.\n",
    "- Pandas now supports three types of Multi-axes indexing.\n"
   ]
  },
  {
   "cell_type": "markdown",
   "metadata": {},
   "source": [
    "Indexing a DataFrame using indexing operator[ ]"
   ]
  },
  {
   "cell_type": "code",
   "execution_count": 4,
   "metadata": {},
   "outputs": [
    {
     "data": {
      "text/plain": [
       "Name\n",
       "Avery Bradley    Boston Celtics\n",
       "Jae Crowder      Boston Celtics\n",
       "John Holland     Boston Celtics\n",
       "R.J. Hunter      Boston Celtics\n",
       "Jonas Jerebko    Boston Celtics\n",
       "                      ...      \n",
       "Shelvin Mack          Utah Jazz\n",
       "Raul Neto             Utah Jazz\n",
       "Tibor Pleiss          Utah Jazz\n",
       "Jeff Withey           Utah Jazz\n",
       "NaN                         NaN\n",
       "Name: Team, Length: 458, dtype: object"
      ]
     },
     "execution_count": 4,
     "metadata": {},
     "output_type": "execute_result"
    }
   ],
   "source": [
    "# making data frame frome csv file\n",
    "data=pd.read_csv(\"nba.csv\",index_col=\"Name\")\n",
    "# retrieving columns by indexing operator\n",
    "first=data[\"Team\"]\n",
    "first"
   ]
  },
  {
   "cell_type": "markdown",
   "metadata": {},
   "source": [
    "Indexing a DataFrame using loc method"
   ]
  },
  {
   "cell_type": "code",
   "execution_count": 5,
   "metadata": {},
   "outputs": [
    {
     "name": "stdout",
     "output_type": "stream",
     "text": [
      "Team        Boston Celtics\n",
      "Number                44.0\n",
      "Position                 C\n",
      "Age                   26.0\n",
      "Height                 7-0\n",
      "Weight               253.0\n",
      "College     North Carolina\n",
      "Salary           2616975.0\n",
      "Name: Tyler Zeller, dtype: object \n",
      "\n",
      "\n",
      " Team        Boston Celtics\n",
      "Number                 0.0\n",
      "Position                PG\n",
      "Age                   25.0\n",
      "Height                 6-2\n",
      "Weight               180.0\n",
      "College              Texas\n",
      "Salary           7730337.0\n",
      "Name: Avery Bradley, dtype: object\n"
     ]
    }
   ],
   "source": [
    "# retrieving row by loc method\n",
    "first=data.loc[\"Tyler Zeller\"]\n",
    "second=data.loc[\"Avery Bradley\"]\n",
    "print(first,\"\\n\\n\\n\",second)"
   ]
  },
  {
   "cell_type": "markdown",
   "metadata": {},
   "source": [
    "Indexing a DataFrame using indexing iloc method"
   ]
  },
  {
   "cell_type": "code",
   "execution_count": 6,
   "metadata": {},
   "outputs": [
    {
     "name": "stdout",
     "output_type": "stream",
     "text": [
      "Team        Brooklyn Nets\n",
      "Number               33.0\n",
      "Position               PF\n",
      "Age                  26.0\n",
      "Height               6-10\n",
      "Weight              220.0\n",
      "College       Saint Louis\n",
      "Salary           947276.0\n",
      "Name: Willie Reed, dtype: object \n",
      "\n",
      "\n",
      " Team        Boston Celtics\n",
      "Number                 7.0\n",
      "Position                 C\n",
      "Age                   24.0\n",
      "Height                 6-9\n",
      "Weight               260.0\n",
      "College         Ohio State\n",
      "Salary           2569260.0\n",
      "Name: Jared Sullinger, dtype: object\n"
     ]
    }
   ],
   "source": [
    "# retrieving row by iloc method\n",
    "first=data.iloc[25]\n",
    "second=data.iloc[10]\n",
    "print(first,\"\\n\\n\\n\",second)"
   ]
  }
 ],
 "metadata": {
  "kernelspec": {
   "display_name": "Python 3",
   "language": "python",
   "name": "python3"
  },
  "language_info": {
   "codemirror_mode": {
    "name": "ipython",
    "version": 3
   },
   "file_extension": ".py",
   "mimetype": "text/x-python",
   "name": "python",
   "nbconvert_exporter": "python",
   "pygments_lexer": "ipython3",
   "version": "3.10.8"
  }
 },
 "nbformat": 4,
 "nbformat_minor": 2
}
