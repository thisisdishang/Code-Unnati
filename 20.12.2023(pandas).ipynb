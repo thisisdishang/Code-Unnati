{
 "cells": [
  {
   "cell_type": "markdown",
   "metadata": {},
   "source": [
    "### Pandas\n",
    "- Pandas is an open-source python library that uses powerful data structures to provide high-performance data manipulation and analysis.\n",
    "- It provides a variety of data structures and operations for manipulating numerical data and time series.\n",
    "- This library is based on the NumPy library."
   ]
  },
  {
   "cell_type": "markdown",
   "metadata": {},
   "source": [
    "Pandas Objects\n",
    "- Pandas objects can be thought of as enhanced version of NumPy structured arrays in which the rows and columns are identified with labels rather than simple integer indices.\n",
    "- There are three fundamental pandas data structures:<br>\n",
    "    1. Series<br>\n",
    "    2. DataFrame<br>\n",
    "    3. Index"
   ]
  },
  {
   "cell_type": "markdown",
   "metadata": {},
   "source": [
    "Series\n",
    "- Pandas series is a labelled one-dimensional array that can hold any type of data(integer, string, float, python object, and so on).\n",
    "- Pandas series is simply a columns in an excel spreadsheet.\n",
    "- Using the Series() method, we can easily convert a list, tuple, or dictionary into a series."
   ]
  },
  {
   "cell_type": "markdown",
   "metadata": {},
   "source": [
    "Creating a Series"
   ]
  },
  {
   "cell_type": "code",
   "execution_count": 2,
   "metadata": {},
   "outputs": [
    {
     "name": "stdout",
     "output_type": "stream",
     "text": [
      "Series([], dtype: object)\n",
      "['g' 'e' 'e' 'k' 's']\n",
      "0    g\n",
      "1    e\n",
      "2    e\n",
      "3    k\n",
      "4    s\n",
      "dtype: object\n"
     ]
    },
    {
     "data": {
      "text/plain": [
       "'g'"
      ]
     },
     "execution_count": 2,
     "metadata": {},
     "output_type": "execute_result"
    }
   ],
   "source": [
    "import pandas as pd\n",
    "import numpy as np\n",
    "\n",
    "myser=pd.Series()\n",
    "print(myser)\n",
    "\n",
    "data=np.array(['g','e','e','k','s'])\n",
    "print(data)\n",
    "myser=pd.Series(data)\n",
    "print(myser)\n",
    "myser[0]"
   ]
  }
 ],
 "metadata": {
  "kernelspec": {
   "display_name": "Python 3",
   "language": "python",
   "name": "python3"
  },
  "language_info": {
   "codemirror_mode": {
    "name": "ipython",
    "version": 3
   },
   "file_extension": ".py",
   "mimetype": "text/x-python",
   "name": "python",
   "nbconvert_exporter": "python",
   "pygments_lexer": "ipython3",
   "version": "3.10.8"
  }
 },
 "nbformat": 4,
 "nbformat_minor": 2
}
